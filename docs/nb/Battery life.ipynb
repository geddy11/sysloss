{
 "cells": [
  {
   "cell_type": "markdown",
   "id": "a1ca17a0-128e-46b7-b65d-011116b44d28",
   "metadata": {
    "slideshow": {
     "slide_type": ""
    },
    "tags": []
   },
   "source": [
    "(batt_life_sim)=\n",
    "# Battery Life Simulation\n",
    "This tutorial demonstrates estimation of how long a system can operate from a battery. `sysLoss` does not include battery models as such but can interface with user supplied battery models using callback functions. We will revisit the Bluetooth sensor from the first tutorial and evaluate the battery life with different battery models."
   ]
  },
  {
   "cell_type": "code",
   "execution_count": 1,
   "id": "0ddf2bf4-d388-4195-aaaa-c0a4969b02b0",
   "metadata": {
    "editable": true,
    "slideshow": {
     "slide_type": ""
    },
    "tags": [
     "remove-cell"
    ]
   },
   "outputs": [],
   "source": [
    "# This cell can be removed, it is only used for running the notebook during Sphinx documentation build.\n",
    "import sys, os\n",
    "if os.getcwd().replace('\\\\', '/').endswith(\"/docs/nb\"):\n",
    "    sys.path.insert(0, os.path.abspath(os.path.join(\"../../src\")))"
   ]
  },
  {
   "cell_type": "code",
   "execution_count": 2,
   "id": "3555e267-3e0a-4c54-8611-f498f616146e",
   "metadata": {
    "editable": true,
    "slideshow": {
     "slide_type": ""
    },
    "tags": []
   },
   "outputs": [],
   "source": [
    "from sysloss.components import *\n",
    "from sysloss.system import System\n",
    "import numpy as np\n",
    "import matplotlib.pyplot as plt"
   ]
  },
  {
   "cell_type": "markdown",
   "id": "3e9ec23a-db71-4f10-acac-81928ed90913",
   "metadata": {
    "slideshow": {
     "slide_type": ""
    },
    "tags": []
   },
   "source": [
    "## System definition\n",
    "The Bluetooth Sensor System is reused, including load phases, with the addition of 2D interpolation data for converter efficiency. The system is powered by a rechargeable lithium battery with a capacity of 156mAh and nominal voltage of 3.6V. Battery voltage varies a lot depending on state-of-charge (SOC), so converter efficiencies should reflect this."
   ]
  },
  {
   "cell_type": "code",
   "execution_count": 3,
   "id": "47140e30-4db4-4d4d-93ea-3e72769df775",
   "metadata": {},
   "outputs": [],
   "source": [
    "CAPACITY = .156 # battery capacity in Ah\n",
    "VNOMINAL = 3.6 # nominal battery voltage (V)\n",
    "buck_eff = {\"vi\": [3.0, 5.0], \"io\": [1e-6, 1e-5, 1e-4, 1e-3, 1e-2], \"eff\": [[0.72, 0.89, 0.92, 0.925, 0.93],[0.65, 0.84, 0.87, 0.9, 0.91]]}\n",
    "boost_eff = {\"vi\": [3.0, 4.5], \"io\": [1e-6, 1e-5, 1e-4, 1e-3, 1e-2], \"eff\": [[0.55, 0.65, 0.72, 0.8, 0.85],[0.62, 0.72, 0.81, 0.85, 0.91]]}\n",
    "bts = System(\"Bluetooth sensor\", Source(\"LiPo battery\", vo=VNOMINAL, rs=0.0))\n",
    "bts.add_comp(\"LiPo battery\", comp=Converter(\"Buck 1.8V\", vo=1.8, eff=buck_eff))\n",
    "bts.add_comp(\"Buck 1.8V\", comp=PLoad(\"MCU\", pwr=13e-3))\n",
    "bts.add_comp(\"LiPo battery\", comp=Converter(\"Boost 5V\", vo=5.0, eff=boost_eff, iis=3e-6))\n",
    "bts.add_comp(\"Boost 5V\", comp=RLoss(\"RC filter\", rs=6.8))\n",
    "bts.add_comp(\"RC filter\", comp=ILoad(\"Sensor\", ii=6e-3))\n",
    "bts_phases = {\"sleep\": 3600, \"acquire\": 2.5, \"transmit\": 2e-3}\n",
    "bts.set_sys_phases(bts_phases)\n",
    "bts.set_comp_phases(\"Boost 5V\", phase_conf=[\"acquire\"])\n",
    "mcu_pwr = {\"sleep\": 12e-6, \"acquire\": 15e-3, \"transmit\": 35e-3}\n",
    "bts.set_comp_phases(\"MCU\", phase_conf=mcu_pwr)"
   ]
  },
  {
   "cell_type": "markdown",
   "id": "4eba8610-357d-421e-9e8a-1e5e07e8d1a1",
   "metadata": {},
   "source": [
    "## Ideal battery\n",
    "We start with an ideal battery. Although not invented yet, it has a constant output voltage and zero internal resistance. The battery life is then simply the battery capacity divided by average system current."
   ]
  },
  {
   "cell_type": "code",
   "execution_count": 4,
   "id": "2e361600-a213-47ab-b9b0-3d7bbde0e418",
   "metadata": {},
   "outputs": [
    {
     "data": {
      "text/html": [
       "<div>\n",
       "<style scoped>\n",
       "    .dataframe tbody tr th:only-of-type {\n",
       "        vertical-align: middle;\n",
       "    }\n",
       "\n",
       "    .dataframe tbody tr th {\n",
       "        vertical-align: top;\n",
       "    }\n",
       "\n",
       "    .dataframe thead th {\n",
       "        text-align: right;\n",
       "    }\n",
       "</style>\n",
       "<table border=\"1\" class=\"dataframe\">\n",
       "  <thead>\n",
       "    <tr style=\"text-align: right;\">\n",
       "      <th></th>\n",
       "      <th>Component</th>\n",
       "      <th>Type</th>\n",
       "      <th>Parent</th>\n",
       "      <th>Phase</th>\n",
       "      <th>Vin (V)</th>\n",
       "      <th>Vout (V)</th>\n",
       "      <th>Iin (A)</th>\n",
       "      <th>Iout (A)</th>\n",
       "      <th>Power (W)</th>\n",
       "      <th>Loss (W)</th>\n",
       "      <th>Efficiency (%)</th>\n",
       "      <th>Warnings</th>\n",
       "    </tr>\n",
       "  </thead>\n",
       "  <tbody>\n",
       "    <tr>\n",
       "      <th>17</th>\n",
       "      <td>Sensor</td>\n",
       "      <td>LOAD</td>\n",
       "      <td>RC filter</td>\n",
       "      <td>transmit</td>\n",
       "      <td>0.0</td>\n",
       "      <td>0.0</td>\n",
       "      <td>0.0</td>\n",
       "      <td>0.0</td>\n",
       "      <td>0.0</td>\n",
       "      <td>0.0</td>\n",
       "      <td>100.0</td>\n",
       "      <td></td>\n",
       "    </tr>\n",
       "    <tr>\n",
       "      <th>18</th>\n",
       "      <td>Buck 1.8V</td>\n",
       "      <td>CONVERTER</td>\n",
       "      <td>LiPo battery</td>\n",
       "      <td>transmit</td>\n",
       "      <td>3.6</td>\n",
       "      <td>1.8</td>\n",
       "      <td>0.010522</td>\n",
       "      <td>0.019444</td>\n",
       "      <td>0.037879</td>\n",
       "      <td>0.002879</td>\n",
       "      <td>92.4</td>\n",
       "      <td></td>\n",
       "    </tr>\n",
       "    <tr>\n",
       "      <th>19</th>\n",
       "      <td>MCU</td>\n",
       "      <td>LOAD</td>\n",
       "      <td>Buck 1.8V</td>\n",
       "      <td>transmit</td>\n",
       "      <td>1.8</td>\n",
       "      <td>0.0</td>\n",
       "      <td>0.019444</td>\n",
       "      <td>0.0</td>\n",
       "      <td>0.035</td>\n",
       "      <td>0.0</td>\n",
       "      <td>100.0</td>\n",
       "      <td></td>\n",
       "    </tr>\n",
       "    <tr>\n",
       "      <th>20</th>\n",
       "      <td>System total</td>\n",
       "      <td></td>\n",
       "      <td></td>\n",
       "      <td>transmit</td>\n",
       "      <td></td>\n",
       "      <td></td>\n",
       "      <td></td>\n",
       "      <td>0.010525</td>\n",
       "      <td>0.03789</td>\n",
       "      <td>0.00289</td>\n",
       "      <td>92.373662</td>\n",
       "      <td></td>\n",
       "    </tr>\n",
       "    <tr>\n",
       "      <th>21</th>\n",
       "      <td>System average</td>\n",
       "      <td></td>\n",
       "      <td></td>\n",
       "      <td></td>\n",
       "      <td></td>\n",
       "      <td></td>\n",
       "      <td></td>\n",
       "      <td>0.000017</td>\n",
       "      <td>0.000062</td>\n",
       "      <td>0.000018</td>\n",
       "      <td>46.742804</td>\n",
       "      <td></td>\n",
       "    </tr>\n",
       "  </tbody>\n",
       "</table>\n",
       "</div>"
      ],
      "text/plain": [
       "         Component       Type        Parent     Phase Vin (V) Vout (V)  \\\n",
       "17          Sensor       LOAD     RC filter  transmit     0.0      0.0   \n",
       "18       Buck 1.8V  CONVERTER  LiPo battery  transmit     3.6      1.8   \n",
       "19             MCU       LOAD     Buck 1.8V  transmit     1.8      0.0   \n",
       "20    System total                           transmit                    \n",
       "21  System average                                                       \n",
       "\n",
       "     Iin (A)  Iout (A) Power (W)  Loss (W) Efficiency (%) Warnings  \n",
       "17       0.0       0.0       0.0       0.0          100.0           \n",
       "18  0.010522  0.019444  0.037879  0.002879           92.4           \n",
       "19  0.019444       0.0     0.035       0.0          100.0           \n",
       "20            0.010525   0.03789   0.00289      92.373662           \n",
       "21            0.000017  0.000062  0.000018      46.742804           "
      ]
     },
     "execution_count": 4,
     "metadata": {},
     "output_type": "execute_result"
    }
   ],
   "source": [
    "bdf = bts.solve()\n",
    "bdf.tail()"
   ]
  },
  {
   "cell_type": "code",
   "execution_count": 5,
   "id": "18ec5029-5b57-41d6-a851-d1e6ff9171df",
   "metadata": {},
   "outputs": [
    {
     "data": {
      "text/plain": [
       "380"
      ]
     },
     "execution_count": 5,
     "metadata": {},
     "output_type": "execute_result"
    }
   ],
   "source": [
    "# divide by 24 to get battery life in days\n",
    "int(CAPACITY / (bdf[bdf.Component == \"System average\"][\"Iout (A)\"].values[0] * 24))"
   ]
  },
  {
   "cell_type": "markdown",
   "id": "82a2db9a-0ff0-4747-8865-8cd1fddc079c",
   "metadata": {},
   "source": [
    "The ideal battery should provide power for 380 days. We can make callback functions for the *.batt_life()* method for an ideal battery as well, and run the battery life simulation.\n",
    "```{note}\n",
    "If the system has load phases, the battery is depleted by looping through the phases in the order they are defined.\n",
    "```"
   ]
  },
  {
   "cell_type": "code",
   "execution_count": 6,
   "id": "7ecaf4c8-6804-40d5-896d-0619a418cbe7",
   "metadata": {},
   "outputs": [
    {
     "data": {
      "application/vnd.jupyter.widget-view+json": {
       "model_id": "0a4e6b30ebae4041b3b46798173b7cf4",
       "version_major": 2,
       "version_minor": 0
      },
      "text/plain": [
       "Battery depletion (mAh):   0%|          | 0.00/156 [00:00<?, ?mAh/s]"
      ]
     },
     "metadata": {},
     "output_type": "display_data"
    }
   ],
   "source": [
    "cap = CAPACITY\n",
    "\n",
    "def probe():\n",
    "    \"\"\"The probe function returns the current state of the battery\"\"\"\n",
    "    global cap\n",
    "    return (cap, VNOMINAL, 0.0)\n",
    "\n",
    "def deplete(t, curr):\n",
    "    \"\"\"The deplete function depletes the battery with a current of duration t\"\"\"\n",
    "    global cap\n",
    "    cap -= t * curr / 3600.0\n",
    "    if cap < 0.0:\n",
    "        cap = 0.0\n",
    "        return (0.0, 0.0, 0.0)\n",
    "    return (cap, VNOMINAL, 0.0)\n",
    "\n",
    "bldf = bts.batt_life(\"LiPo battery\", cutoff=3.0, pfunc=probe, dfunc=deplete)"
   ]
  },
  {
   "cell_type": "markdown",
   "id": "f3d12945-2bc8-4e66-962b-98fbe560e089",
   "metadata": {},
   "source": [
    "The output of the depletion process is a DataFrame with all the time steps of the simulation. The \"Time (s)\" column is the accumulated time, and the last row then holds the battery life in seconds."
   ]
  },
  {
   "cell_type": "code",
   "execution_count": 7,
   "id": "8f0e35e5-4e31-44b0-9359-b2bf397417af",
   "metadata": {},
   "outputs": [
    {
     "data": {
      "text/html": [
       "<div>\n",
       "<style scoped>\n",
       "    .dataframe tbody tr th:only-of-type {\n",
       "        vertical-align: middle;\n",
       "    }\n",
       "\n",
       "    .dataframe tbody tr th {\n",
       "        vertical-align: top;\n",
       "    }\n",
       "\n",
       "    .dataframe thead th {\n",
       "        text-align: right;\n",
       "    }\n",
       "</style>\n",
       "<table border=\"1\" class=\"dataframe\">\n",
       "  <thead>\n",
       "    <tr style=\"text-align: right;\">\n",
       "      <th></th>\n",
       "      <th>Time (s)</th>\n",
       "      <th>Capacity (Ah)</th>\n",
       "      <th>Voltage (V)</th>\n",
       "      <th>Resistance (Ohm)</th>\n",
       "    </tr>\n",
       "  </thead>\n",
       "  <tbody>\n",
       "    <tr>\n",
       "      <th>27360</th>\n",
       "      <td>3.285482e+07</td>\n",
       "      <td>0.000029</td>\n",
       "      <td>3.6</td>\n",
       "      <td>0.0</td>\n",
       "    </tr>\n",
       "    <tr>\n",
       "      <th>27361</th>\n",
       "      <td>3.285842e+07</td>\n",
       "      <td>0.000022</td>\n",
       "      <td>3.6</td>\n",
       "      <td>0.0</td>\n",
       "    </tr>\n",
       "    <tr>\n",
       "      <th>27362</th>\n",
       "      <td>3.285842e+07</td>\n",
       "      <td>0.000012</td>\n",
       "      <td>3.6</td>\n",
       "      <td>0.0</td>\n",
       "    </tr>\n",
       "    <tr>\n",
       "      <th>27363</th>\n",
       "      <td>3.285842e+07</td>\n",
       "      <td>0.000012</td>\n",
       "      <td>3.6</td>\n",
       "      <td>0.0</td>\n",
       "    </tr>\n",
       "    <tr>\n",
       "      <th>27364</th>\n",
       "      <td>3.286202e+07</td>\n",
       "      <td>0.000005</td>\n",
       "      <td>3.6</td>\n",
       "      <td>0.0</td>\n",
       "    </tr>\n",
       "  </tbody>\n",
       "</table>\n",
       "</div>"
      ],
      "text/plain": [
       "           Time (s)  Capacity (Ah)  Voltage (V)  Resistance (Ohm)\n",
       "27360  3.285482e+07       0.000029          3.6               0.0\n",
       "27361  3.285842e+07       0.000022          3.6               0.0\n",
       "27362  3.285842e+07       0.000012          3.6               0.0\n",
       "27363  3.285842e+07       0.000012          3.6               0.0\n",
       "27364  3.286202e+07       0.000005          3.6               0.0"
      ]
     },
     "execution_count": 7,
     "metadata": {},
     "output_type": "execute_result"
    }
   ],
   "source": [
    "bldf.tail()"
   ]
  },
  {
   "cell_type": "code",
   "execution_count": 8,
   "id": "b6a3a24f-c0d9-4f3b-8e59-10f5687bd5cc",
   "metadata": {},
   "outputs": [
    {
     "data": {
      "text/plain": [
       "380"
      ]
     },
     "execution_count": 8,
     "metadata": {},
     "output_type": "execute_result"
    }
   ],
   "source": [
    "int(bldf[\"Time (s)\"].values[-1]/(24*3600))"
   ]
  },
  {
   "cell_type": "markdown",
   "id": "3c3ebb61-0683-4d00-8e3a-2de392b170c4",
   "metadata": {},
   "source": [
    "The simulation agrees with the first calculation: 380 days.\n",
    "\n",
    "## Simple battery model\n",
    "The ideal battery model is generally too optimistic. We want to add voltage variation as a function for charge level and add some internal resistance. Also, most lithium batteries have a PCM (Protection Control Module) that draws a little current, plus there is self-discharge which is typically a few percent per month. To take these effects into account, we create a battery class."
   ]
  },
  {
   "cell_type": "code",
   "execution_count": 9,
   "id": "00dbebbf-051e-496c-b45d-a0bb1f6264f0",
   "metadata": {},
   "outputs": [],
   "source": [
    "class LiPo:\n",
    "    def __init__(self, capacity, nom_volt, resistance, cutoff):\n",
    "        self.capacity = capacity # Ah\n",
    "        self.depleted = 0.0 # Ah\n",
    "        self.rs = resistance # ohm\n",
    "        self.nom_volt = nom_volt # V\n",
    "        self.beta = 0.75 # adapt to battery\n",
    "        self.k1 = 0.01 # adapt to battery\n",
    "        self.k2 = 0.00003 # adapt to battery\n",
    "        self.cutoff = cutoff # V\n",
    "        self.pcm_curr = 1e-6 # protection circuit module (PCM) current\n",
    "        self.dc_per_month = 0.05 # 5% self-discharge per month\n",
    "\n",
    "    def calc_res(self):\n",
    "        return self.rs\n",
    "\n",
    "    def calc_ocv(self):\n",
    "        soc = (self.capacity - self.depleted)/self.capacity\n",
    "        if soc > 0.0:\n",
    "            ocv = self.nom_volt + self.beta * (soc - 0.5) - self.k1 / soc + self.k2 / (1.001 - soc)\n",
    "            if ocv < self.cutoff:\n",
    "                return 0.0\n",
    "            return ocv\n",
    "        return 0.0\n",
    "    \n",
    "    def probe(self):\n",
    "        return (self.capacity - self.depleted, self.calc_ocv(), self.calc_res())\n",
    "\n",
    "    def deplete(self, t, i):\n",
    "        consumed = i * t\n",
    "        pcm_loss = self.pcm_curr * t\n",
    "        soc = (self.capacity - self.depleted)/self.capacity\n",
    "        self_deplete = soc * self.dc_per_month * t / (30*24*3600)\n",
    "        self.depleted = min(self.depleted + (consumed + pcm_loss + self_deplete)/ 3600.0, self.capacity)\n",
    "        return self.probe()"
   ]
  },
  {
   "cell_type": "markdown",
   "id": "a6f2b331-49ff-4fa9-9d4e-9eddf002d5df",
   "metadata": {},
   "source": [
    "Let's run another battery life estimation with this simple battery model:\n",
    "```{note}\n",
    "The progress bar will stop before the full battery capacity is depleted if the cutoff voltage is reached.\n",
    "```"
   ]
  },
  {
   "cell_type": "code",
   "execution_count": 10,
   "id": "a9d2cdf5-af99-4a2a-8174-22d19077cb1b",
   "metadata": {},
   "outputs": [
    {
     "data": {
      "application/vnd.jupyter.widget-view+json": {
       "model_id": "1b9015cd1a724e0788a73fe902870f01",
       "version_major": 2,
       "version_minor": 0
      },
      "text/plain": [
       "Battery depletion (mAh):   0%|          | 0.00/156 [00:00<?, ?mAh/s]"
      ]
     },
     "metadata": {},
     "output_type": "display_data"
    }
   ],
   "source": [
    "batt = LiPo(CAPACITY, VNOMINAL, 0.1, 3.0)\n",
    "bldf2 = bts.batt_life(\"LiPo battery\", cutoff=3.0, pfunc=batt.probe, dfunc=batt.deplete)"
   ]
  },
  {
   "cell_type": "code",
   "execution_count": 11,
   "id": "f27d355b-ba7b-4cd1-8499-50752538f4af",
   "metadata": {},
   "outputs": [
    {
     "data": {
      "text/plain": [
       "343"
      ]
     },
     "execution_count": 11,
     "metadata": {},
     "output_type": "execute_result"
    }
   ],
   "source": [
    "int(bldf2[\"Time (s)\"].values[-1]/(24*3600))"
   ]
  },
  {
   "cell_type": "markdown",
   "id": "ead35a40-8e83-42fa-b603-a475766cfbeb",
   "metadata": {},
   "source": [
    "The estimated battery lifetime is now 343 days, down from 380 days on the ideal battery. We can now look at the battery voltage as a function of time:"
   ]
  },
  {
   "cell_type": "code",
   "execution_count": 12,
   "id": "9069a505-d9f6-4b22-bc1a-6eb75dbffd4c",
   "metadata": {},
   "outputs": [
    {
     "data": {
      "image/png": "[encoded data removed]",
      "text/plain": [
       "<Figure size 640x480 with 1 Axes>"
      ]
     },
     "metadata": {},
     "output_type": "display_data"
    }
   ],
   "source": [
    "plt.plot(bldf[\"Time (s)\"]/(3600*24), bldf[\"Voltage (V)\"], label=\"Ideal battery\")\n",
    "plt.plot(bldf2[\"Time (s)\"]/(3600*24), bldf2[\"Voltage (V)\"], label=\"Simple battery model\")\n",
    "plt.legend()\n",
    "plt.xlabel(\"Time (days)\")\n",
    "plt.ylabel(\"Voltage (V)\");"
   ]
  },
  {
   "cell_type": "markdown",
   "id": "a00f7eab-1429-4cd3-84ae-2549ad160967",
   "metadata": {},
   "source": [
    "## Battery modelling with PyBaMM\n",
    "So far, the battery model hasn't included the chemical reactions that occur inside the battery. Such battery models are complex, and the best option for including advanced battery models is to use a battery simulation package. PyBaMM (Python Battery Mathematical Modelling) is an open-source battery simulation package that `sysLoss` can interface with. \n",
    "\n",
    "Start by installing PyBaMM."
   ]
  },
  {
   "cell_type": "code",
   "execution_count": 13,
   "id": "1a4bee1f-9b77-45b2-a332-7bcaeec81abe",
   "metadata": {
    "editable": true,
    "slideshow": {
     "slide_type": ""
    },
    "tags": [
     "remove-output"
    ]
   },
   "outputs": [
    {
     "name": "stdout",
     "output_type": "stream",
     "text": [
      "Note: you may need to restart the kernel to use updated packages.\n"
     ]
    }
   ],
   "source": [
    "%pip install pybamm -q\n",
    "import pybamm"
   ]
  },
  {
   "cell_type": "markdown",
   "id": "2f7982cf-b022-4a5e-bd07-6d4e01f16fd1",
   "metadata": {},
   "source": [
    "Next we define the two callback functions needed by the *.batt_life()* method. We select the parameter set \"Ecker2015\" that is a 156mAh battery."
   ]
  },
  {
   "cell_type": "code",
   "execution_count": 14,
   "id": "ba688d85-c10e-46a6-8dfe-2dac74509fb6",
   "metadata": {
    "editable": true,
    "slideshow": {
     "slide_type": ""
    },
    "tags": []
   },
   "outputs": [],
   "source": [
    "model = pybamm.lithium_ion.DFN()\n",
    "parameter_values = pybamm.ParameterValues(\"Ecker2015\") # 156mAh model\n",
    "parameter_values.update({\"Current function [A]\": \"[input]\"})\n",
    "sim = pybamm.Simulation(model, parameter_values=parameter_values)\n",
    "sim.step(1e-6, inputs={\"Current function [A]\":0.0}) # dummy step to initialize variables\n",
    "\n",
    "def probe_pb():\n",
    "    sol = sim.solution\n",
    "    cap = parameter_values[\"Nominal cell capacity [A.h]\"]\n",
    "    return (cap - sol[\"Discharge capacity [A.h]\"].entries[-1], sol[\"Voltage [V]\"].entries[-1], sol[\"Local ECM resistance [Ohm]\"].entries[-1])\n",
    "\n",
    "def deplete_pb(t, curr):\n",
    "    sim.step(t, solver=pybamm.CasadiSolver(mode=\"fast\"), inputs={\"Current function [A]\":curr})\n",
    "    return probe()"
   ]
  },
  {
   "cell_type": "markdown",
   "id": "899722b4-fd7a-4669-a92e-c43aa6c976d0",
   "metadata": {},
   "source": [
    "If we tried *.batt_life()* with these callback functions and the Bluetooh sensor system, the simulation would take extremely long and probably fail. PyBaMM is not really made for year-long simulations, the default discharge rate is 1C. So, for a battery that would deplete in a matter of hours or perhaps a few days the PyBaMM callbacks could be used directly.\n",
    "\n",
    "However, we can use the PyBaMM model to obtain voltage and resistance curves, which we can include in the battery class defined previoulsy. Let's run the PyBaMM model with a discharge rate of 0.1C and 0.01C:"
   ]
  },
  {
   "cell_type": "code",
   "execution_count": 15,
   "id": "3fad8a13-08a4-4183-842a-c465005b9503",
   "metadata": {
    "editable": true,
    "slideshow": {
     "slide_type": ""
    },
    "tags": [
     "remove-output"
    ]
   },
   "outputs": [
    {
     "name": "stderr",
     "output_type": "stream",
     "text": [
      "At t = 358.477 and h = 9.16157e-14, the corrector convergence failed repeatedly or with |h| = hmin.\n",
      "At t = 3706.66, , mxstep steps taken before reaching tout.\n",
      "At t = 1666.25, , mxstep steps taken before reaching tout.\n"
     ]
    }
   ],
   "source": [
    "cap = parameter_values[\"Nominal cell capacity [A.h]\"]\n",
    "# 0.1C discharge\n",
    "sim = pybamm.Simulation(model, parameter_values=parameter_values)\n",
    "sim.solve([0,40000], initial_soc = 1.0, inputs={\"Current function [A]\": 0.1*cap})\n",
    "sol_0c1 = sim.solution\n",
    "# 0.01C discharge\n",
    "sim = pybamm.Simulation(model, parameter_values=parameter_values)\n",
    "sim.solve([0,400000], initial_soc = 1.0, inputs={\"Current function [A]\": 0.01*cap})\n",
    "sol_0c01 = sim.solution"
   ]
  },
  {
   "cell_type": "markdown",
   "id": "2a4d8fd2-9a35-49be-a7bb-a24d70952968",
   "metadata": {},
   "source": [
    "Let's take a look at the battery voltage and resistance curves:"
   ]
  },
  {
   "cell_type": "code",
   "execution_count": 16,
   "id": "68fe0561-8e74-44cf-8557-832f5de29f27",
   "metadata": {
    "editable": true,
    "slideshow": {
     "slide_type": ""
    },
    "tags": [
     "hide-input"
    ]
   },
   "outputs": [
    {
     "data": {
      "image/png": "[encoded data removed]",
      "text/plain": [
       "<Figure size 640x480 with 1 Axes>"
      ]
     },
     "metadata": {},
     "output_type": "display_data"
    }
   ],
   "source": [
    "plt.plot(sol_0c01[\"Local ECM resistance [Ohm]\"].entries, label=\"Resistance @1.56mA\")\n",
    "plt.plot(sol_0c1[\"Local ECM resistance [Ohm]\"].entries, label=\"Resistance @15.6mA\")\n",
    "plt.xlabel(\"Discharge (%)\")\n",
    "plt.ylabel(\"Resistance (Ohm)\")\n",
    "plt.legend();"
   ]
  },
  {
   "cell_type": "code",
   "execution_count": 17,
   "id": "b646e6b7-dce5-47d1-82be-fd6b953a41e2",
   "metadata": {
    "editable": true,
    "slideshow": {
     "slide_type": ""
    },
    "tags": [
     "hide-input"
    ]
   },
   "outputs": [
    {
     "data": {
      "image/png": "[encoded data removed]",
      "text/plain": [
       "<Figure size 640x480 with 1 Axes>"
      ]
     },
     "metadata": {},
     "output_type": "display_data"
    }
   ],
   "source": [
    "plt.plot(sol_0c01[\"Voltage [V]\"].entries, label=\"Voltage @1.56mA\")\n",
    "plt.plot(sol_0c1[\"Voltage [V]\"].entries, label=\"Voltage @15.6mA\")\n",
    "plt.xlabel(\"Discharge (%)\")\n",
    "plt.ylabel(\"Voltage (V)\")\n",
    "plt.legend();"
   ]
  },
  {
   "cell_type": "markdown",
   "id": "0eed574e-1142-45b6-aa3d-65b07182f605",
   "metadata": {
    "editable": true,
    "slideshow": {
     "slide_type": ""
    },
    "tags": []
   },
   "source": [
    "The curves are similar, so the 0.1C curves will be used in the battery class. A new class is made with updated methods for voltage and resistance calculations."
   ]
  },
  {
   "cell_type": "code",
   "execution_count": 18,
   "id": "ad3f1c5c-35e0-458c-8358-de25352aec1d",
   "metadata": {},
   "outputs": [],
   "source": [
    "class LiPo2(LiPo):\n",
    "    def calc_res(self):\n",
    "        soc = (self.capacity - self.depleted)/self.capacity\n",
    "        return np.interp(1.0 - soc, self.rs[0], self.rs[1])\n",
    "\n",
    "    def calc_ocv(self):\n",
    "        soc = (self.capacity - self.depleted)/self.capacity\n",
    "        return np.interp(1.0 - soc, self.nom_volt[0], self.nom_volt[1])"
   ]
  },
  {
   "cell_type": "markdown",
   "id": "968ae261-d2e9-4f97-a2d2-4ce8f6859052",
   "metadata": {},
   "source": [
    "Finally run *.batt_life()* with the updated battery class:"
   ]
  },
  {
   "cell_type": "code",
   "execution_count": 19,
   "id": "a54be7f8-e133-4b9d-b82d-44acde5c8048",
   "metadata": {},
   "outputs": [
    {
     "data": {
      "application/vnd.jupyter.widget-view+json": {
       "model_id": "854d290facc5441e92260cdbef8061a3",
       "version_major": 2,
       "version_minor": 0
      },
      "text/plain": [
       "Battery depletion (mAh):   0%|          | 0.00/156 [00:00<?, ?mAh/s]"
      ]
     },
     "metadata": {},
     "output_type": "display_data"
    }
   ],
   "source": [
    "x = np.linspace(0.0, 1.0, 99, endpoint=True)\n",
    "frx = sol_0c1[\"Local ECM resistance [Ohm]\"].entries\n",
    "fvx = sol_0c1[\"Voltage [V]\"].entries\n",
    "batt2 = LiPo2(cap, (x, fvx), (x, frx), 3.0)\n",
    "bldf3 = bts.batt_life(\"LiPo battery\", cutoff=3.0, pfunc=batt2.probe, dfunc=batt2.deplete)"
   ]
  },
  {
   "cell_type": "code",
   "execution_count": 20,
   "id": "b12727d2-f13d-498f-9f7b-2f7865919c26",
   "metadata": {},
   "outputs": [
    {
     "data": {
      "text/plain": [
       "364"
      ]
     },
     "execution_count": 20,
     "metadata": {},
     "output_type": "execute_result"
    }
   ],
   "source": [
    "int(bldf3[\"Time (s)\"].values[-1]/(24*3600))"
   ]
  },
  {
   "cell_type": "markdown",
   "id": "70a57531-b51d-4cc7-b20d-ea568c5bef91",
   "metadata": {},
   "source": [
    "The battery life estimate is now 364 days, somewhat in the middle of the two previous estimates. Let's look at the battery voltage for the three battery models:"
   ]
  },
  {
   "cell_type": "code",
   "execution_count": 21,
   "id": "59fe3882-5796-455b-a5a2-bd6e61fc7853",
   "metadata": {
    "editable": true,
    "slideshow": {
     "slide_type": ""
    },
    "tags": [
     "hide-input"
    ]
   },
   "outputs": [
    {
     "data": {
      "image/png": "[encoded data removed]",
      "text/plain": [
       "<Figure size 640x480 with 1 Axes>"
      ]
     },
     "metadata": {},
     "output_type": "display_data"
    }
   ],
   "source": [
    "plt.plot(bldf[\"Time (s)\"]/(3600*24), bldf[\"Voltage (V)\"], label=\"Ideal battery\")\n",
    "plt.plot(bldf2[\"Time (s)\"]/(3600*24), bldf2[\"Voltage (V)\"], label=\"Simple battery model\")\n",
    "plt.plot(bldf3[\"Time (s)\"]/(3600*24), bldf3[\"Voltage (V)\"], label=\"Battery with PyBaMM params\")\n",
    "plt.legend()\n",
    "plt.xlabel(\"Time (days)\")\n",
    "plt.ylabel(\"Voltage (V)\");"
   ]
  },
  {
   "cell_type": "markdown",
   "id": "9c7edc10-d492-4419-8218-0ce5e983d777",
   "metadata": {},
   "source": [
    "## Summary\n",
    "This tutorial explores the *.batt_life()* method in `sysLoss` for estimating battery life of the Bluetooth sensor system. Using callback functions `sysLoss` can integrate with just about any user supplied battery model, from ideal batteries to advanced chemistry models."
   ]
  },
  {
   "cell_type": "markdown",
   "id": "efde0d08-4f55-4cda-985b-20621e2bc66e",
   "metadata": {},
   "source": [
    "### References\n",
    "Python Battery Mathematical Modelling (PyBaMM): {cite}`Sulzer_Python_Battery_Mathematical_2021`"
   ]
  }
 ],
 "metadata": {
  "kernelspec": {
   "display_name": "Python 3 (ipykernel)",
   "language": "python",
   "name": "python3"
  },
  "language_info": {
   "codemirror_mode": {
    "name": "ipython",
    "version": 3
   },
   "file_extension": ".py",
   "mimetype": "text/x-python",
   "name": "python",
   "nbconvert_exporter": "python",
   "pygments_lexer": "ipython3",
   "version": "3.11.8"
  }
 },
 "nbformat": 4,
 "nbformat_minor": 5
}
