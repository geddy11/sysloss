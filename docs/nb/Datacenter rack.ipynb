{
 "cells": [
  {
   "cell_type": "markdown",
   "id": "a1ca17a0-128e-46b7-b65d-011116b44d28",
   "metadata": {
    "editable": true,
    "slideshow": {
     "slide_type": ""
    },
    "tags": []
   },
   "source": [
    "# Datacenter Compute Rack\n",
    "In this tutorial we will calculate the yearly energy consumption of a 19in server rack. \n",
    "\n",
    "Configurations:\n",
    "  * 16 2U servers with 230VAC input\n",
    "  * Server power (maximum): 850W\n",
    "  * PDU distribution resistance: 2.5mOhm\n",
    "  * Three different versions of 80plus certified PSUs: Bronze, Gold and Titanium\n",
    "\n",
    "The rack is operated as follows during a year:\n",
    "  * 1 day shutdown for maintenance\n",
    "  * 75% of active time operating at 100% power\n",
    "  * 20% of active time operating at 50% power\n",
    "  * 5% of active time operating at 5% of power"
   ]
  },
  {
   "cell_type": "code",
   "execution_count": 1,
   "id": "0ddf2bf4-d388-4195-aaaa-c0a4969b02b0",
   "metadata": {
    "slideshow": {
     "slide_type": ""
    },
    "tags": [
     "remove-cell"
    ]
   },
   "outputs": [],
   "source": [
    "# This cell can be removed, it is only used for running the notebook during Sphinx documentation build.\n",
    "import sys, os\n",
    "if os.getcwd().replace('\\\\', '/').endswith(\"/docs/nb\"):\n",
    "    sys.path.insert(0, os.path.abspath(os.path.join(\"../../src\")))"
   ]
  },
  {
   "cell_type": "code",
   "execution_count": 2,
   "id": "3555e267-3e0a-4c54-8611-f498f616146e",
   "metadata": {
    "slideshow": {
     "slide_type": ""
    },
    "tags": []
   },
   "outputs": [],
   "source": [
    "from sysloss.components import *\n",
    "from sysloss.system import System\n",
    "import pandas as pd"
   ]
  },
  {
   "cell_type": "markdown",
   "id": "3e9ec23a-db71-4f10-acac-81928ed90913",
   "metadata": {
    "slideshow": {
     "slide_type": ""
    },
    "tags": []
   },
   "source": [
    "## System definition\n",
    "The function *create_rack()* below is used to create a system with the PSU efficiency parameter as input.\n",
    "\n",
    "The following load phases are defined as well:\n",
    "  * \"Service\"\n",
    "  * \"Full load\"\n",
    "  * \"Half load\"\n",
    "  * \"Idle\"\n",
    "\n",
    "```{note}\n",
    "sysLoss treats AC and DC voltages the same. This is valid when the rms AC voltage is used on single phase (power factor 1).\n",
    "```"
   ]
  },
  {
   "cell_type": "code",
   "execution_count": 3,
   "id": "47140e30-4db4-4d4d-93ea-3e72769df775",
   "metadata": {},
   "outputs": [],
   "source": [
    "DAY_SECS = 24*60*60 # seconds in a day\n",
    "rack_phases = {\"Service\": DAY_SECS, \"Full load\": 364*DAY_SECS*0.75, \"Half load\": 364*DAY_SECS*0.75, \"Idle\": 364*DAY_SECS*0.05}\n",
    "\n",
    "def create_rack(psu_efficiency):\n",
    "    sys = System(\"Compute rack\", source=Source(\"230VAC\", vo=230.0))\n",
    "    sys.set_sys_phases(rack_phases)\n",
    "    for i in range(16):\n",
    "        idx = \"[{}]\".format(i+1)\n",
    "        sys.add_comp(\"230VAC\", comp=RLoss(\"PDU resistance\"+idx, rs=2.5e-3))\n",
    "        sys.add_comp(\"PDU resistance\"+idx, comp=Converter(\"PSU\"+idx, vo=12.0, eff=psu_efficiency))\n",
    "        sys.set_comp_phases(\"PSU\"+idx, [\"Full load\", \"Half load\", \"Idle\"])\n",
    "        sys.add_comp(\"PSU\"+idx, comp=PLoad(\"Blade\"+idx, pwr=850.0))\n",
    "        sys.set_comp_phases(\"Blade\"+idx, {\"Full load\": 850.0, \"Half load\": 425.0, \"Idle\": 42.5})\n",
    "    return sys"
   ]
  },
  {
   "cell_type": "markdown",
   "id": "a6eb2a0c-07ee-43b0-8569-4d94976635a4",
   "metadata": {},
   "source": [
    "Define efficiency for the three different PSU ratings:"
   ]
  },
  {
   "cell_type": "code",
   "execution_count": 4,
   "id": "8937c0ea-f451-408a-ae43-074bb6c113ad",
   "metadata": {},
   "outputs": [],
   "source": [
    "bronze_eff = {\"vi\": [230.0], \"io\":[3.55, 7.1, 14.2, 35.5, 71.0], \"eff\":[[.67, .79, .85, .88, .85]]}\n",
    "gold_eff =  {\"vi\": [230.0], \"io\":[3.55, 7.1, 14.2, 35.5, 71.0], \"eff\":[[.79, .86, .90, .92, .89]]}\n",
    "titanium_eff =  {\"vi\": [230.0], \"io\":[3.55, 7.1, 14.2, 35.5, 71.0], \"eff\":[[.84, .90, .94, .96, .91]]}"
   ]
  },
  {
   "cell_type": "markdown",
   "id": "326d0203-ed99-4f25-acfc-acdb9f499213",
   "metadata": {},
   "source": [
    "## Analysis\n",
    "Analysis is straight forward - run *solve()* with each of the three PSU ratings.\n",
    "\n",
    "```{tip}\n",
    "Set the *energy* parameter in *.solve()* to True - the results table will then contain a new column with the 24h energy consumption.\n",
    "```"
   ]
  },
  {
   "cell_type": "code",
   "execution_count": 5,
   "id": "9b2ba15e-8f1d-47d2-8a75-aee3f9597128",
   "metadata": {},
   "outputs": [
    {
     "data": {
      "text/html": [
       "<div>\n",
       "<style scoped>\n",
       "    .dataframe tbody tr th:only-of-type {\n",
       "        vertical-align: middle;\n",
       "    }\n",
       "\n",
       "    .dataframe tbody tr th {\n",
       "        vertical-align: top;\n",
       "    }\n",
       "\n",
       "    .dataframe thead th {\n",
       "        text-align: right;\n",
       "    }\n",
       "</style>\n",
       "<table border=\"1\" class=\"dataframe\">\n",
       "  <thead>\n",
       "    <tr style=\"text-align: right;\">\n",
       "      <th></th>\n",
       "      <th>Component</th>\n",
       "      <th>Type</th>\n",
       "      <th>Parent</th>\n",
       "      <th>Rating</th>\n",
       "      <th>Phase</th>\n",
       "      <th>Vin (V)</th>\n",
       "      <th>Vout (V)</th>\n",
       "      <th>Iin (A)</th>\n",
       "      <th>Iout (A)</th>\n",
       "      <th>Power (W)</th>\n",
       "      <th>Loss (W)</th>\n",
       "      <th>Efficiency (%)</th>\n",
       "      <th>24h energy (Wh)</th>\n",
       "      <th>Warnings</th>\n",
       "    </tr>\n",
       "  </thead>\n",
       "  <tbody>\n",
       "    <tr>\n",
       "      <th>598</th>\n",
       "      <td>PDU resistance[1]</td>\n",
       "      <td>SLOSS</td>\n",
       "      <td>230VAC</td>\n",
       "      <td>Titanium</td>\n",
       "      <td>Idle</td>\n",
       "      <td>230.0</td>\n",
       "      <td>229.99945</td>\n",
       "      <td>0.21998</td>\n",
       "      <td>0.21998</td>\n",
       "      <td>50.595359</td>\n",
       "      <td>0.000121</td>\n",
       "      <td>99.999761</td>\n",
       "      <td>39.101297</td>\n",
       "      <td></td>\n",
       "    </tr>\n",
       "    <tr>\n",
       "      <th>599</th>\n",
       "      <td>PSU[1]</td>\n",
       "      <td>CONVERTER</td>\n",
       "      <td>PDU resistance[1]</td>\n",
       "      <td>Titanium</td>\n",
       "      <td>Idle</td>\n",
       "      <td>229.99945</td>\n",
       "      <td>12.0</td>\n",
       "      <td>0.21998</td>\n",
       "      <td>3.541667</td>\n",
       "      <td>50.595238</td>\n",
       "      <td>8.095238</td>\n",
       "      <td>84.0</td>\n",
       "      <td>39.101203</td>\n",
       "      <td></td>\n",
       "    </tr>\n",
       "    <tr>\n",
       "      <th>600</th>\n",
       "      <td>Blade[1]</td>\n",
       "      <td>LOAD</td>\n",
       "      <td>PSU[1]</td>\n",
       "      <td>Titanium</td>\n",
       "      <td>Idle</td>\n",
       "      <td>12.0</td>\n",
       "      <td>0.0</td>\n",
       "      <td>3.541667</td>\n",
       "      <td>0.0</td>\n",
       "      <td>42.5</td>\n",
       "      <td>0.0</td>\n",
       "      <td>100.0</td>\n",
       "      <td>32.845011</td>\n",
       "      <td></td>\n",
       "    </tr>\n",
       "    <tr>\n",
       "      <th>601</th>\n",
       "      <td>System total</td>\n",
       "      <td></td>\n",
       "      <td></td>\n",
       "      <td>Titanium</td>\n",
       "      <td>Idle</td>\n",
       "      <td></td>\n",
       "      <td></td>\n",
       "      <td></td>\n",
       "      <td></td>\n",
       "      <td>809.525745</td>\n",
       "      <td>129.525745</td>\n",
       "      <td>83.999799</td>\n",
       "      <td>625.620746</td>\n",
       "      <td></td>\n",
       "    </tr>\n",
       "    <tr>\n",
       "      <th>602</th>\n",
       "      <td>System average</td>\n",
       "      <td></td>\n",
       "      <td></td>\n",
       "      <td>Titanium</td>\n",
       "      <td></td>\n",
       "      <td></td>\n",
       "      <td></td>\n",
       "      <td></td>\n",
       "      <td></td>\n",
       "      <td>10664.913806</td>\n",
       "      <td>789.513963</td>\n",
       "      <td>93.210233</td>\n",
       "      <td>255957.931346</td>\n",
       "      <td></td>\n",
       "    </tr>\n",
       "  </tbody>\n",
       "</table>\n",
       "</div>"
      ],
      "text/plain": [
       "             Component       Type             Parent    Rating Phase  \\\n",
       "598  PDU resistance[1]      SLOSS             230VAC  Titanium  Idle   \n",
       "599             PSU[1]  CONVERTER  PDU resistance[1]  Titanium  Idle   \n",
       "600           Blade[1]       LOAD             PSU[1]  Titanium  Idle   \n",
       "601       System total                                Titanium  Idle   \n",
       "602     System average                                Titanium         \n",
       "\n",
       "       Vin (V)   Vout (V)   Iin (A)  Iout (A)     Power (W)    Loss (W)  \\\n",
       "598      230.0  229.99945   0.21998   0.21998     50.595359    0.000121   \n",
       "599  229.99945       12.0   0.21998  3.541667     50.595238    8.095238   \n",
       "600       12.0        0.0  3.541667       0.0          42.5         0.0   \n",
       "601                                              809.525745  129.525745   \n",
       "602                                            10664.913806  789.513963   \n",
       "\n",
       "    Efficiency (%) 24h energy (Wh) Warnings  \n",
       "598      99.999761       39.101297           \n",
       "599           84.0       39.101203           \n",
       "600          100.0       32.845011           \n",
       "601      83.999799      625.620746           \n",
       "602      93.210233   255957.931346           "
      ]
     },
     "execution_count": 5,
     "metadata": {},
     "output_type": "execute_result"
    }
   ],
   "source": [
    "raitings = {\"Bronze\": bronze_eff, \"Gold\": gold_eff, \"Titanium\": titanium_eff}\n",
    "\n",
    "res = []\n",
    "for r in raitings.keys():\n",
    "    rack = create_rack(raitings[r])\n",
    "    res += [rack.solve(tags={\"Rating\": r}, energy=True)]\n",
    "df = pd.concat(res, ignore_index=True)\n",
    "df.tail()"
   ]
  },
  {
   "cell_type": "markdown",
   "id": "e07b2ecb-97ad-4620-9419-7fb94ba9ceec",
   "metadata": {},
   "source": [
    "Since we are interested in the yearly power consumption, a new column is created for this:"
   ]
  },
  {
   "cell_type": "code",
   "execution_count": 8,
   "id": "4e53290e-d990-4af0-b463-4ac357e083d0",
   "metadata": {},
   "outputs": [
    {
     "data": {
      "text/html": [
       "<style type=\"text/css\">\n",
       "</style>\n",
       "<table id=\"T_93d4f\">\n",
       "  <thead>\n",
       "    <tr>\n",
       "      <th id=\"T_93d4f_level0_col0\" class=\"col_heading level0 col0\" >Component</th>\n",
       "      <th id=\"T_93d4f_level0_col1\" class=\"col_heading level0 col1\" >Rating</th>\n",
       "      <th id=\"T_93d4f_level0_col2\" class=\"col_heading level0 col2\" >Power (W)</th>\n",
       "      <th id=\"T_93d4f_level0_col3\" class=\"col_heading level0 col3\" >Loss (W)</th>\n",
       "      <th id=\"T_93d4f_level0_col4\" class=\"col_heading level0 col4\" >Efficiency (%)</th>\n",
       "      <th id=\"T_93d4f_level0_col5\" class=\"col_heading level0 col5\" >Annual power (kWh)</th>\n",
       "    </tr>\n",
       "  </thead>\n",
       "  <tbody>\n",
       "    <tr>\n",
       "      <td id=\"T_93d4f_row0_col0\" class=\"data row0 col0\" >System average</td>\n",
       "      <td id=\"T_93d4f_row0_col1\" class=\"data row0 col1\" >Bronze</td>\n",
       "      <td id=\"T_93d4f_row0_col2\" class=\"data row0 col2\" >11492.974920</td>\n",
       "      <td id=\"T_93d4f_row0_col3\" class=\"data row0 col3\" >1617.575080</td>\n",
       "      <td id=\"T_93d4f_row0_col4\" class=\"data row0 col4\" >85.894183</td>\n",
       "      <td id=\"T_93d4f_row0_col5\" class=\"data row0 col5\" >100678.460297</td>\n",
       "    </tr>\n",
       "    <tr>\n",
       "      <td id=\"T_93d4f_row1_col0\" class=\"data row1 col0\" >System average</td>\n",
       "      <td id=\"T_93d4f_row1_col1\" class=\"data row1 col1\" >Gold</td>\n",
       "      <td id=\"T_93d4f_row1_col2\" class=\"data row1 col2\" >10978.275298</td>\n",
       "      <td id=\"T_93d4f_row1_col3\" class=\"data row1 col3\" >1102.875456</td>\n",
       "      <td id=\"T_93d4f_row1_col4\" class=\"data row1 col4\" >90.146603</td>\n",
       "      <td id=\"T_93d4f_row1_col5\" class=\"data row1 col5\" >96169.691606</td>\n",
       "    </tr>\n",
       "    <tr>\n",
       "      <td id=\"T_93d4f_row2_col0\" class=\"data row2 col0\" >System average</td>\n",
       "      <td id=\"T_93d4f_row2_col1\" class=\"data row2 col1\" >Titanium</td>\n",
       "      <td id=\"T_93d4f_row2_col2\" class=\"data row2 col2\" >10664.913806</td>\n",
       "      <td id=\"T_93d4f_row2_col3\" class=\"data row2 col3\" >789.513963</td>\n",
       "      <td id=\"T_93d4f_row2_col4\" class=\"data row2 col4\" >93.210233</td>\n",
       "      <td id=\"T_93d4f_row2_col5\" class=\"data row2 col5\" >93424.644941</td>\n",
       "    </tr>\n",
       "  </tbody>\n",
       "</table>\n"
      ],
      "text/plain": [
       "<pandas.io.formats.style.Styler at 0x294f21293d0>"
      ]
     },
     "execution_count": 8,
     "metadata": {},
     "output_type": "execute_result"
    }
   ],
   "source": [
    "df[\"Annual power (kWh)\"] = df[\"24h energy (Wh)\"] * 365 / 1000\n",
    "df[df.Component == \"System average\"][[\"Component\", \"Rating\", \"Power (W)\", \"Loss (W)\", \"Efficiency (%)\", \"Annual power (kWh)\"]].style.hide(axis='index')"
   ]
  },
  {
   "cell_type": "markdown",
   "id": "606a90fd-ad74-4228-8502-37cba6010b75",
   "metadata": {},
   "source": [
    "The power savings from using a Titanium certified PSU over a Bronze certified PSU is 7263kWh per year. Is there an economic gain to use higher rated PSUs? That depends on the lifetime of the rack, the energy prices and the cost difference between e.g. a Bronze PSU and Titanium PSU."
   ]
  },
  {
   "cell_type": "markdown",
   "id": "99692134-a950-46fd-bb29-60f7e6f5cf8a",
   "metadata": {},
   "source": [
    "## Summary\n",
    "This tutorial demonstrates how system energy consumption can be analyzed with sysLoss by enabling the *energy* parameter in *solve()*."
   ]
  }
 ],
 "metadata": {
  "kernelspec": {
   "display_name": "Python 3 (ipykernel)",
   "language": "python",
   "name": "python3"
  },
  "language_info": {
   "codemirror_mode": {
    "name": "ipython",
    "version": 3
   },
   "file_extension": ".py",
   "mimetype": "text/x-python",
   "name": "python",
   "nbconvert_exporter": "python",
   "pygments_lexer": "ipython3",
   "version": "3.11.8"
  }
 },
 "nbformat": 4,
 "nbformat_minor": 5
}
